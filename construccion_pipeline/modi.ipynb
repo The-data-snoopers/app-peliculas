{
 "cells": [
  {
   "cell_type": "code",
   "execution_count": 1,
   "metadata": {},
   "outputs": [],
   "source": [
    "import numpy as np\n",
    "import pandas as pd\n",
    "import random"
   ]
  },
  {
   "cell_type": "code",
   "execution_count": 2,
   "metadata": {},
   "outputs": [],
   "source": [
    "pd.set_option('display.max_colwidth', None)"
   ]
  },
  {
   "cell_type": "code",
   "execution_count": 3,
   "metadata": {},
   "outputs": [],
   "source": [
    "movies_df = pd.read_csv('../construccion_pipeline/data/MovieReviewsPruebas.csv', encoding=\"utf-8\", sep = ',')"
   ]
  },
  {
   "cell_type": "code",
   "execution_count": 6,
   "metadata": {},
   "outputs": [
    {
     "name": "stdout",
     "output_type": "stream",
     "text": [
      "El número máximo de caracteres es: 7029\n"
     ]
    }
   ],
   "source": [
    "max_length = movies_df['review_es'].str.len().max()\n",
    "print(\"El número máximo de caracteres es:\", max_length)\n"
   ]
  },
  {
   "cell_type": "code",
   "execution_count": 27,
   "metadata": {},
   "outputs": [
    {
     "data": {
      "text/plain": [
       "(300, 2)"
      ]
     },
     "execution_count": 27,
     "metadata": {},
     "output_type": "execute_result"
    }
   ],
   "source": [
    "movies_df.shape"
   ]
  },
  {
   "cell_type": "code",
   "execution_count": 28,
   "metadata": {},
   "outputs": [],
   "source": [
    "movies_df = movies_df.drop('Unnamed: 0', axis=1)"
   ]
  },
  {
   "cell_type": "code",
   "execution_count": 29,
   "metadata": {},
   "outputs": [
    {
     "data": {
      "text/html": [
       "<div>\n",
       "<style scoped>\n",
       "    .dataframe tbody tr th:only-of-type {\n",
       "        vertical-align: middle;\n",
       "    }\n",
       "\n",
       "    .dataframe tbody tr th {\n",
       "        vertical-align: top;\n",
       "    }\n",
       "\n",
       "    .dataframe thead th {\n",
       "        text-align: right;\n",
       "    }\n",
       "</style>\n",
       "<table border=\"1\" class=\"dataframe\">\n",
       "  <thead>\n",
       "    <tr style=\"text-align: right;\">\n",
       "      <th></th>\n",
       "      <th>review_es</th>\n",
       "    </tr>\n",
       "  </thead>\n",
       "  <tbody>\n",
       "    <tr>\n",
       "      <th>0</th>\n",
       "      <td>La saga medieval alemana de Fritz Lang continúa en Die Nibelungen: Kriemhilds Rache (1924) .kriemhild (Margarete Schoen) quiere vengar a su esposo asesinado, Siegfried. Hermano es demasiado débil para traer a los asesinados, Hagen, a Justice.Kriemhild se casa con Etzel, elRey de los hunos (Rudolf Klein-Rogge). Ella da a luz a un niño, e invita a sus hermanos para una fiesta .Tzel y los otros huns deberían Kil Hagen, pero está protegido por sus hermanos. Vemos una gran batalla de la vida.Y la muerte comienza, y ella pone a todo el lugar en Fire. Incluso Hagen está muerto, y también lo es Kriemhild. Estos películas tratan con grandes temas, como la venganza y el amor eterno. Más tarde, hemos visto algunas mejores películas hechas de esos temas,Pero este fue uno de los primeros.</td>\n",
       "    </tr>\n",
       "    <tr>\n",
       "      <th>1</th>\n",
       "      <td>Este anime es una visita obligada para los fanáticos de Evangelion. Es un trabajo anterior de Anno Hideaki, pero su estilo sin restricciones, dramático está bastante en su lugar. Además, aquellos que no les gustaron Evangelion pueden encontrar que esta liberación sea un poco más sabrosa. Gunbuster es bastante exclusivo de Sci-Fi anime, ya que en realidad se basa en la ciencia real. De hecho, el espectáculo tiene varias interludios de \"lección de ciencia\" pequeña que explican la física detrás de algunos de los eventos en la película. Uno de los grandes puntos dramáticos de la película es el paso relativo del tiempo a velocidades cerca de la de la luz. La serie hace un trabajo maravilloso para enfrentar la experiencia imaginablemente traumática de dejar la Tierra en una misión de seis meses que viaja cerca de la velocidad de la luz y regresando a una tierra donde han pasado diez años. El personaje principal sigue siendo 17 o 18 años en toda la serie, mientras que casi todos los otros personajes, edad, considerablemente. Tenga cuidado, este espectáculo es pesado en la savia a veces. También tiene un par de los disparos de pechos más totalmente deshollinados que he visto. Me pareció bastante fácil ignorar los uniformes escasos y las escenas de Boo-Hoo, porque la serie es muy buena, pero los espectadores con una tolerancia de baja savia pueden querer mantenerse alejados de este. En una nota interesante, GAINAX, como siempre, logró quedarse sin dinero en la última pareja de episodios. Sin embargo, lograron usar una película en blanco y negro y bocetos de acción para producir una buena resolución de todos modos. El final es un poco tonto, pero me dejó con un buen sentimiento en mi intestino, no pude evitar amarlo. Gunbuster es, en mi opinión, una de las mejores piezas de anime.</td>\n",
       "    </tr>\n",
       "    <tr>\n",
       "      <th>2</th>\n",
       "      <td>Esta es una de las mejores películas para mascotas para niños.Lloro cada vez que veo la sombra gritando \"¡Espera, espere a Peter!\"A medida que el coche familiar se está alejando.¡Esto es una visita obligada si amas a los animales!¡La mejor pelicula de la historia!Las líneas en la película son a veces estúpidas.Como cuando Sassy dice al azar;\"¡Regla de gato y perros babea!\"Líneas como esta pude hacer sin, pero cuando tenía seis años, me encantó esa línea.La historia puede parecer gancho para algunos, pero me gusta.Shadow como el perro mayor que está preparando la oportunidad de hacerse cargo de él cuando se ha ido realmente se está moviendo cuando lo piensas.Me recordó a mi perro infantil.Creo que todos pueden encontrar una pieza de sí mismos en \"atajo hacia el hogar\".</td>\n",
       "    </tr>\n",
       "    <tr>\n",
       "      <th>3</th>\n",
       "      <td>Cuando se lanzó su DVD, llegué al mercado y lo compré. Y creo que mi dinero estaba de manera correcta, como lo esperaba antes de comprarlo. Movie impresionante ¿Qué más puedo decir para Will Smith, ha sido un actor increíble como siempre, ya sea en las acciones de las acciones o en serio? Siempre le da un rendimiento de frenado récord. Creo que esta es la película después de apresurarse de agosto, lo que hace llorar a una persona mientras lo miraba. La forma en que el director describió la historia fue realmente increíble. Su vida anterior y su nueva vida en la película se elaboraron correctamente a la audiencia. Incluso no pude encontrar ninguna falla en la historia o en la forma en que se disparan. Creo que su DVD debe ser un hogar porque esto será realmente bueno para su colección. No es la película que necesita Pop-Corns para disfrutar, esta es la película que deja que la audiencia aprenda una lección. Ahora, ¿cuál es la lección puedes ver eso mientras miraba? Y aconsejo a aquellas personas que son críticos de la película, vea esto si pudieras encontrar cualquier crítica sobre esta película, por favor, háblame.</td>\n",
       "    </tr>\n",
       "    <tr>\n",
       "      <th>4</th>\n",
       "      <td>No me he reído tan duro en una película en mucho tiempo.Tengo que ir a una proyección anticipada, y estaba emocionada porque me había estado muriendo por verlo.Tenía lágrimas en mis ojos de la risa a lo largo de una gran parte de la película.Toda la audiencia compartió mi risa, y estaba aplaudiendo y gritando a lo largo de la mayor parte de la película. Kudos a Steve Carrell (a quien ya había sido fanático).Él demuestra en esta película su tremendo talento para la comedia.Él tiene un estilo que no he visto antes.Y Catherine Keener es excelente como siempre.Gracias a Dios allí, no había un cameo de Ferrell (Love Your, pero lo vi demasiado en este verano). Había partes del genio cómico en esta película.En parte, gracias a Carrell, y en parte gracias a la escritura (también Carrell).La escena de depilación y la velocidad del dater con el \"problema obvio\" fueron absolutamente histéricamente. Sin duda, iré a ver '40 años de edad virgen 'cuando se libera.Mi consejo: ve a verlo para enormes risas y una película increíblemente agradable encima de ella.</td>\n",
       "    </tr>\n",
       "  </tbody>\n",
       "</table>\n",
       "</div>"
      ],
      "text/plain": [
       "                                                                                                                                                                                                                                                                                                                                                                                                                                                                                                                                                                                                                                                                                                                                                                                                                                                                                                                                                                                                                                                                                                                                                                                                                                                                                                                                                                                                                                                                                                                                                                                                                                                                                                                                                                                                                                                                   review_es\n",
       "0                                                                                                                                                                                                                                                                                                                                                                                                                                                                                                                                                                                                                                                                                                                                                                                                                                                                                                                                                                                                                                                         La saga medieval alemana de Fritz Lang continúa en Die Nibelungen: Kriemhilds Rache (1924) .kriemhild (Margarete Schoen) quiere vengar a su esposo asesinado, Siegfried. Hermano es demasiado débil para traer a los asesinados, Hagen, a Justice.Kriemhild se casa con Etzel, elRey de los hunos (Rudolf Klein-Rogge). Ella da a luz a un niño, e invita a sus hermanos para una fiesta .Tzel y los otros huns deberían Kil Hagen, pero está protegido por sus hermanos. Vemos una gran batalla de la vida.Y la muerte comienza, y ella pone a todo el lugar en Fire. Incluso Hagen está muerto, y también lo es Kriemhild. Estos películas tratan con grandes temas, como la venganza y el amor eterno. Más tarde, hemos visto algunas mejores películas hechas de esos temas,Pero este fue uno de los primeros.\n",
       "1  Este anime es una visita obligada para los fanáticos de Evangelion. Es un trabajo anterior de Anno Hideaki, pero su estilo sin restricciones, dramático está bastante en su lugar. Además, aquellos que no les gustaron Evangelion pueden encontrar que esta liberación sea un poco más sabrosa. Gunbuster es bastante exclusivo de Sci-Fi anime, ya que en realidad se basa en la ciencia real. De hecho, el espectáculo tiene varias interludios de \"lección de ciencia\" pequeña que explican la física detrás de algunos de los eventos en la película. Uno de los grandes puntos dramáticos de la película es el paso relativo del tiempo a velocidades cerca de la de la luz. La serie hace un trabajo maravilloso para enfrentar la experiencia imaginablemente traumática de dejar la Tierra en una misión de seis meses que viaja cerca de la velocidad de la luz y regresando a una tierra donde han pasado diez años. El personaje principal sigue siendo 17 o 18 años en toda la serie, mientras que casi todos los otros personajes, edad, considerablemente. Tenga cuidado, este espectáculo es pesado en la savia a veces. También tiene un par de los disparos de pechos más totalmente deshollinados que he visto. Me pareció bastante fácil ignorar los uniformes escasos y las escenas de Boo-Hoo, porque la serie es muy buena, pero los espectadores con una tolerancia de baja savia pueden querer mantenerse alejados de este. En una nota interesante, GAINAX, como siempre, logró quedarse sin dinero en la última pareja de episodios. Sin embargo, lograron usar una película en blanco y negro y bocetos de acción para producir una buena resolución de todos modos. El final es un poco tonto, pero me dejó con un buen sentimiento en mi intestino, no pude evitar amarlo. Gunbuster es, en mi opinión, una de las mejores piezas de anime.\n",
       "2                                                                                                                                                                                                                                                                                                                                                                                                                                                                                                                                                                                                                                                                                                                                                                                                                                                                                                                                                                                                                                                                 Esta es una de las mejores películas para mascotas para niños.Lloro cada vez que veo la sombra gritando \"¡Espera, espere a Peter!\"A medida que el coche familiar se está alejando.¡Esto es una visita obligada si amas a los animales!¡La mejor pelicula de la historia!Las líneas en la película son a veces estúpidas.Como cuando Sassy dice al azar;\"¡Regla de gato y perros babea!\"Líneas como esta pude hacer sin, pero cuando tenía seis años, me encantó esa línea.La historia puede parecer gancho para algunos, pero me gusta.Shadow como el perro mayor que está preparando la oportunidad de hacerse cargo de él cuando se ha ido realmente se está moviendo cuando lo piensas.Me recordó a mi perro infantil.Creo que todos pueden encontrar una pieza de sí mismos en \"atajo hacia el hogar\".\n",
       "3                                                                                                                                                                                                                                                                                                                                                                                                                                                                                                                                                                                                                                                                                               Cuando se lanzó su DVD, llegué al mercado y lo compré. Y creo que mi dinero estaba de manera correcta, como lo esperaba antes de comprarlo. Movie impresionante ¿Qué más puedo decir para Will Smith, ha sido un actor increíble como siempre, ya sea en las acciones de las acciones o en serio? Siempre le da un rendimiento de frenado récord. Creo que esta es la película después de apresurarse de agosto, lo que hace llorar a una persona mientras lo miraba. La forma en que el director describió la historia fue realmente increíble. Su vida anterior y su nueva vida en la película se elaboraron correctamente a la audiencia. Incluso no pude encontrar ninguna falla en la historia o en la forma en que se disparan. Creo que su DVD debe ser un hogar porque esto será realmente bueno para su colección. No es la película que necesita Pop-Corns para disfrutar, esta es la película que deja que la audiencia aprenda una lección. Ahora, ¿cuál es la lección puedes ver eso mientras miraba? Y aconsejo a aquellas personas que son críticos de la película, vea esto si pudieras encontrar cualquier crítica sobre esta película, por favor, háblame.\n",
       "4                                                                                                                                                                                                                                                                                                                                                                                                                                                                                                                                                                                                                                                                                                                                                                       No me he reído tan duro en una película en mucho tiempo.Tengo que ir a una proyección anticipada, y estaba emocionada porque me había estado muriendo por verlo.Tenía lágrimas en mis ojos de la risa a lo largo de una gran parte de la película.Toda la audiencia compartió mi risa, y estaba aplaudiendo y gritando a lo largo de la mayor parte de la película. Kudos a Steve Carrell (a quien ya había sido fanático).Él demuestra en esta película su tremendo talento para la comedia.Él tiene un estilo que no he visto antes.Y Catherine Keener es excelente como siempre.Gracias a Dios allí, no había un cameo de Ferrell (Love Your, pero lo vi demasiado en este verano). Había partes del genio cómico en esta película.En parte, gracias a Carrell, y en parte gracias a la escritura (también Carrell).La escena de depilación y la velocidad del dater con el \"problema obvio\" fueron absolutamente histéricamente. Sin duda, iré a ver '40 años de edad virgen 'cuando se libera.Mi consejo: ve a verlo para enormes risas y una película increíblemente agradable encima de ella."
      ]
     },
     "execution_count": 29,
     "metadata": {},
     "output_type": "execute_result"
    }
   ],
   "source": [
    "movies_df.head(5)"
   ]
  },
  {
   "cell_type": "code",
   "execution_count": 32,
   "metadata": {},
   "outputs": [],
   "source": [
    "peliculas = [\"El Padrino\",    \"Titanic\",    \"Star Wars: Una Nueva Esperanza\",    \"El Señor de los Anillos: La Comunidad del Anillo\",    \"El Gran Hotel Budapest\",    \"La La Land\",    \"Toy Story\",    \"Forrest Gump\",    \"Los Intocables\",    \"El Silencio de los Inocentes\",    \"El Rey León\",    \"El Resplandor\",    \"Blade Runner\",    \"El Club de la Pelea\",    \"La Vida de Pi\",    \"La Lista de Schindler\",    \"2001: Una Odisea del Espacio\",    \"El Planeta de los Simios\",    \"Ciudadano Kane\",    \"Rocky\",    \"El Gran Lebowski\",    \"El Sexto Sentido\",    \"Los Cazafantasmas\",    \"Lo que el Viento se llevó\",    \"Indiana Jones y los Raiders del Arca Perdida\",    \"E.T., El Extraterrestre\",    \"Memento\",    \"El Discurso del Rey\",    \"Kill Bill: Vol. 1\",    \"Los Infiltrados\"]\n"
   ]
  },
  {
   "cell_type": "code",
   "execution_count": 33,
   "metadata": {},
   "outputs": [],
   "source": [
    "\n",
    "for i, nombre in enumerate(movies_df['review_es']):\n",
    "    posicion = random.choice(range(0, len(peliculas)))\n",
    "    movies_df.loc[i,'movie_name'] = peliculas[posicion]\n"
   ]
  },
  {
   "cell_type": "code",
   "execution_count": 35,
   "metadata": {},
   "outputs": [
    {
     "data": {
      "text/html": [
       "<div>\n",
       "<style scoped>\n",
       "    .dataframe tbody tr th:only-of-type {\n",
       "        vertical-align: middle;\n",
       "    }\n",
       "\n",
       "    .dataframe tbody tr th {\n",
       "        vertical-align: top;\n",
       "    }\n",
       "\n",
       "    .dataframe thead th {\n",
       "        text-align: right;\n",
       "    }\n",
       "</style>\n",
       "<table border=\"1\" class=\"dataframe\">\n",
       "  <thead>\n",
       "    <tr style=\"text-align: right;\">\n",
       "      <th></th>\n",
       "      <th>review_es</th>\n",
       "      <th>movie_name</th>\n",
       "    </tr>\n",
       "  </thead>\n",
       "  <tbody>\n",
       "    <tr>\n",
       "      <th>0</th>\n",
       "      <td>La saga medieval alemana de Fritz Lang continúa en Die Nibelungen: Kriemhilds Rache (1924) .kriemhild (Margarete Schoen) quiere vengar a su esposo asesinado, Siegfried. Hermano es demasiado débil para traer a los asesinados, Hagen, a Justice.Kriemhild se casa con Etzel, elRey de los hunos (Rudolf Klein-Rogge). Ella da a luz a un niño, e invita a sus hermanos para una fiesta .Tzel y los otros huns deberían Kil Hagen, pero está protegido por sus hermanos. Vemos una gran batalla de la vida.Y la muerte comienza, y ella pone a todo el lugar en Fire. Incluso Hagen está muerto, y también lo es Kriemhild. Estos películas tratan con grandes temas, como la venganza y el amor eterno. Más tarde, hemos visto algunas mejores películas hechas de esos temas,Pero este fue uno de los primeros.</td>\n",
       "      <td>Forrest Gump</td>\n",
       "    </tr>\n",
       "    <tr>\n",
       "      <th>1</th>\n",
       "      <td>Este anime es una visita obligada para los fanáticos de Evangelion. Es un trabajo anterior de Anno Hideaki, pero su estilo sin restricciones, dramático está bastante en su lugar. Además, aquellos que no les gustaron Evangelion pueden encontrar que esta liberación sea un poco más sabrosa. Gunbuster es bastante exclusivo de Sci-Fi anime, ya que en realidad se basa en la ciencia real. De hecho, el espectáculo tiene varias interludios de \"lección de ciencia\" pequeña que explican la física detrás de algunos de los eventos en la película. Uno de los grandes puntos dramáticos de la película es el paso relativo del tiempo a velocidades cerca de la de la luz. La serie hace un trabajo maravilloso para enfrentar la experiencia imaginablemente traumática de dejar la Tierra en una misión de seis meses que viaja cerca de la velocidad de la luz y regresando a una tierra donde han pasado diez años. El personaje principal sigue siendo 17 o 18 años en toda la serie, mientras que casi todos los otros personajes, edad, considerablemente. Tenga cuidado, este espectáculo es pesado en la savia a veces. También tiene un par de los disparos de pechos más totalmente deshollinados que he visto. Me pareció bastante fácil ignorar los uniformes escasos y las escenas de Boo-Hoo, porque la serie es muy buena, pero los espectadores con una tolerancia de baja savia pueden querer mantenerse alejados de este. En una nota interesante, GAINAX, como siempre, logró quedarse sin dinero en la última pareja de episodios. Sin embargo, lograron usar una película en blanco y negro y bocetos de acción para producir una buena resolución de todos modos. El final es un poco tonto, pero me dejó con un buen sentimiento en mi intestino, no pude evitar amarlo. Gunbuster es, en mi opinión, una de las mejores piezas de anime.</td>\n",
       "      <td>Los Infiltrados</td>\n",
       "    </tr>\n",
       "    <tr>\n",
       "      <th>2</th>\n",
       "      <td>Esta es una de las mejores películas para mascotas para niños.Lloro cada vez que veo la sombra gritando \"¡Espera, espere a Peter!\"A medida que el coche familiar se está alejando.¡Esto es una visita obligada si amas a los animales!¡La mejor pelicula de la historia!Las líneas en la película son a veces estúpidas.Como cuando Sassy dice al azar;\"¡Regla de gato y perros babea!\"Líneas como esta pude hacer sin, pero cuando tenía seis años, me encantó esa línea.La historia puede parecer gancho para algunos, pero me gusta.Shadow como el perro mayor que está preparando la oportunidad de hacerse cargo de él cuando se ha ido realmente se está moviendo cuando lo piensas.Me recordó a mi perro infantil.Creo que todos pueden encontrar una pieza de sí mismos en \"atajo hacia el hogar\".</td>\n",
       "      <td>Lo que el Viento se llevó</td>\n",
       "    </tr>\n",
       "    <tr>\n",
       "      <th>3</th>\n",
       "      <td>Cuando se lanzó su DVD, llegué al mercado y lo compré. Y creo que mi dinero estaba de manera correcta, como lo esperaba antes de comprarlo. Movie impresionante ¿Qué más puedo decir para Will Smith, ha sido un actor increíble como siempre, ya sea en las acciones de las acciones o en serio? Siempre le da un rendimiento de frenado récord. Creo que esta es la película después de apresurarse de agosto, lo que hace llorar a una persona mientras lo miraba. La forma en que el director describió la historia fue realmente increíble. Su vida anterior y su nueva vida en la película se elaboraron correctamente a la audiencia. Incluso no pude encontrar ninguna falla en la historia o en la forma en que se disparan. Creo que su DVD debe ser un hogar porque esto será realmente bueno para su colección. No es la película que necesita Pop-Corns para disfrutar, esta es la película que deja que la audiencia aprenda una lección. Ahora, ¿cuál es la lección puedes ver eso mientras miraba? Y aconsejo a aquellas personas que son críticos de la película, vea esto si pudieras encontrar cualquier crítica sobre esta película, por favor, háblame.</td>\n",
       "      <td>Lo que el Viento se llevó</td>\n",
       "    </tr>\n",
       "    <tr>\n",
       "      <th>4</th>\n",
       "      <td>No me he reído tan duro en una película en mucho tiempo.Tengo que ir a una proyección anticipada, y estaba emocionada porque me había estado muriendo por verlo.Tenía lágrimas en mis ojos de la risa a lo largo de una gran parte de la película.Toda la audiencia compartió mi risa, y estaba aplaudiendo y gritando a lo largo de la mayor parte de la película. Kudos a Steve Carrell (a quien ya había sido fanático).Él demuestra en esta película su tremendo talento para la comedia.Él tiene un estilo que no he visto antes.Y Catherine Keener es excelente como siempre.Gracias a Dios allí, no había un cameo de Ferrell (Love Your, pero lo vi demasiado en este verano). Había partes del genio cómico en esta película.En parte, gracias a Carrell, y en parte gracias a la escritura (también Carrell).La escena de depilación y la velocidad del dater con el \"problema obvio\" fueron absolutamente histéricamente. Sin duda, iré a ver '40 años de edad virgen 'cuando se libera.Mi consejo: ve a verlo para enormes risas y una película increíblemente agradable encima de ella.</td>\n",
       "      <td>La Lista de Schindler</td>\n",
       "    </tr>\n",
       "  </tbody>\n",
       "</table>\n",
       "</div>"
      ],
      "text/plain": [
       "                                                                                                                                                                                                                                                                                                                                                                                                                                                                                                                                                                                                                                                                                                                                                                                                                                                                                                                                                                                                                                                                                                                                                                                                                                                                                                                                                                                                                                                                                                                                                                                                                                                                                                                                                                                                                                                                   review_es   \n",
       "0                                                                                                                                                                                                                                                                                                                                                                                                                                                                                                                                                                                                                                                                                                                                                                                                                                                                                                                                                                                                                                                         La saga medieval alemana de Fritz Lang continúa en Die Nibelungen: Kriemhilds Rache (1924) .kriemhild (Margarete Schoen) quiere vengar a su esposo asesinado, Siegfried. Hermano es demasiado débil para traer a los asesinados, Hagen, a Justice.Kriemhild se casa con Etzel, elRey de los hunos (Rudolf Klein-Rogge). Ella da a luz a un niño, e invita a sus hermanos para una fiesta .Tzel y los otros huns deberían Kil Hagen, pero está protegido por sus hermanos. Vemos una gran batalla de la vida.Y la muerte comienza, y ella pone a todo el lugar en Fire. Incluso Hagen está muerto, y también lo es Kriemhild. Estos películas tratan con grandes temas, como la venganza y el amor eterno. Más tarde, hemos visto algunas mejores películas hechas de esos temas,Pero este fue uno de los primeros.  \\\n",
       "1  Este anime es una visita obligada para los fanáticos de Evangelion. Es un trabajo anterior de Anno Hideaki, pero su estilo sin restricciones, dramático está bastante en su lugar. Además, aquellos que no les gustaron Evangelion pueden encontrar que esta liberación sea un poco más sabrosa. Gunbuster es bastante exclusivo de Sci-Fi anime, ya que en realidad se basa en la ciencia real. De hecho, el espectáculo tiene varias interludios de \"lección de ciencia\" pequeña que explican la física detrás de algunos de los eventos en la película. Uno de los grandes puntos dramáticos de la película es el paso relativo del tiempo a velocidades cerca de la de la luz. La serie hace un trabajo maravilloso para enfrentar la experiencia imaginablemente traumática de dejar la Tierra en una misión de seis meses que viaja cerca de la velocidad de la luz y regresando a una tierra donde han pasado diez años. El personaje principal sigue siendo 17 o 18 años en toda la serie, mientras que casi todos los otros personajes, edad, considerablemente. Tenga cuidado, este espectáculo es pesado en la savia a veces. También tiene un par de los disparos de pechos más totalmente deshollinados que he visto. Me pareció bastante fácil ignorar los uniformes escasos y las escenas de Boo-Hoo, porque la serie es muy buena, pero los espectadores con una tolerancia de baja savia pueden querer mantenerse alejados de este. En una nota interesante, GAINAX, como siempre, logró quedarse sin dinero en la última pareja de episodios. Sin embargo, lograron usar una película en blanco y negro y bocetos de acción para producir una buena resolución de todos modos. El final es un poco tonto, pero me dejó con un buen sentimiento en mi intestino, no pude evitar amarlo. Gunbuster es, en mi opinión, una de las mejores piezas de anime.   \n",
       "2                                                                                                                                                                                                                                                                                                                                                                                                                                                                                                                                                                                                                                                                                                                                                                                                                                                                                                                                                                                                                                                                 Esta es una de las mejores películas para mascotas para niños.Lloro cada vez que veo la sombra gritando \"¡Espera, espere a Peter!\"A medida que el coche familiar se está alejando.¡Esto es una visita obligada si amas a los animales!¡La mejor pelicula de la historia!Las líneas en la película son a veces estúpidas.Como cuando Sassy dice al azar;\"¡Regla de gato y perros babea!\"Líneas como esta pude hacer sin, pero cuando tenía seis años, me encantó esa línea.La historia puede parecer gancho para algunos, pero me gusta.Shadow como el perro mayor que está preparando la oportunidad de hacerse cargo de él cuando se ha ido realmente se está moviendo cuando lo piensas.Me recordó a mi perro infantil.Creo que todos pueden encontrar una pieza de sí mismos en \"atajo hacia el hogar\".   \n",
       "3                                                                                                                                                                                                                                                                                                                                                                                                                                                                                                                                                                                                                                                                                               Cuando se lanzó su DVD, llegué al mercado y lo compré. Y creo que mi dinero estaba de manera correcta, como lo esperaba antes de comprarlo. Movie impresionante ¿Qué más puedo decir para Will Smith, ha sido un actor increíble como siempre, ya sea en las acciones de las acciones o en serio? Siempre le da un rendimiento de frenado récord. Creo que esta es la película después de apresurarse de agosto, lo que hace llorar a una persona mientras lo miraba. La forma en que el director describió la historia fue realmente increíble. Su vida anterior y su nueva vida en la película se elaboraron correctamente a la audiencia. Incluso no pude encontrar ninguna falla en la historia o en la forma en que se disparan. Creo que su DVD debe ser un hogar porque esto será realmente bueno para su colección. No es la película que necesita Pop-Corns para disfrutar, esta es la película que deja que la audiencia aprenda una lección. Ahora, ¿cuál es la lección puedes ver eso mientras miraba? Y aconsejo a aquellas personas que son críticos de la película, vea esto si pudieras encontrar cualquier crítica sobre esta película, por favor, háblame.   \n",
       "4                                                                                                                                                                                                                                                                                                                                                                                                                                                                                                                                                                                                                                                                                                                                                                       No me he reído tan duro en una película en mucho tiempo.Tengo que ir a una proyección anticipada, y estaba emocionada porque me había estado muriendo por verlo.Tenía lágrimas en mis ojos de la risa a lo largo de una gran parte de la película.Toda la audiencia compartió mi risa, y estaba aplaudiendo y gritando a lo largo de la mayor parte de la película. Kudos a Steve Carrell (a quien ya había sido fanático).Él demuestra en esta película su tremendo talento para la comedia.Él tiene un estilo que no he visto antes.Y Catherine Keener es excelente como siempre.Gracias a Dios allí, no había un cameo de Ferrell (Love Your, pero lo vi demasiado en este verano). Había partes del genio cómico en esta película.En parte, gracias a Carrell, y en parte gracias a la escritura (también Carrell).La escena de depilación y la velocidad del dater con el \"problema obvio\" fueron absolutamente histéricamente. Sin duda, iré a ver '40 años de edad virgen 'cuando se libera.Mi consejo: ve a verlo para enormes risas y una película increíblemente agradable encima de ella.   \n",
       "\n",
       "                  movie_name  \n",
       "0               Forrest Gump  \n",
       "1            Los Infiltrados  \n",
       "2  Lo que el Viento se llevó  \n",
       "3  Lo que el Viento se llevó  \n",
       "4      La Lista de Schindler  "
      ]
     },
     "execution_count": 35,
     "metadata": {},
     "output_type": "execute_result"
    }
   ],
   "source": [
    "movies_df.head(5)"
   ]
  },
  {
   "cell_type": "code",
   "execution_count": 36,
   "metadata": {},
   "outputs": [],
   "source": [
    "movies_df.to_csv('moviesPruebas.csv', index=False)"
   ]
  }
 ],
 "metadata": {
  "kernelspec": {
   "display_name": "env",
   "language": "python",
   "name": "python3"
  },
  "language_info": {
   "codemirror_mode": {
    "name": "ipython",
    "version": 3
   },
   "file_extension": ".py",
   "mimetype": "text/x-python",
   "name": "python",
   "nbconvert_exporter": "python",
   "pygments_lexer": "ipython3",
   "version": "3.11.0"
  },
  "orig_nbformat": 4
 },
 "nbformat": 4,
 "nbformat_minor": 2
}
